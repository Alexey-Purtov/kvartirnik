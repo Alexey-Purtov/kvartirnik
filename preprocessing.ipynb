{
 "cells": [
  {
   "cell_type": "code",
   "execution_count": 24,
   "id": "37a234b1-83ab-4da9-87e9-f6d3ca1f0c80",
   "metadata": {},
   "outputs": [],
   "source": [
    "import pandas as pd\n",
    "import numpy as np\n",
    "import matplotlib.pyplot as plt\n",
    "import seaborn as sns\n",
    "import re"
   ]
  },
  {
   "cell_type": "code",
   "execution_count": 25,
   "id": "fbcf5ed3-0f9d-4cf2-a4af-26b69aee6f48",
   "metadata": {},
   "outputs": [],
   "source": [
    "df = pd.read_csv('preprocessing.csv')"
   ]
  },
  {
   "cell_type": "code",
   "execution_count": 26,
   "id": "7ed3b1c2-3cfb-4b45-aaf2-8e7bfbd7188e",
   "metadata": {},
   "outputs": [],
   "source": [
    "pd.set_option('display.max_columns', None) # чтобы увидеть все столбцы"
   ]
  },
  {
   "cell_type": "code",
   "execution_count": 27,
   "id": "5a04617f-558e-4064-92e0-61117763eb3f",
   "metadata": {},
   "outputs": [],
   "source": [
    "def count_bathrooms(bathroom_string):\n",
    "    if pd.isna(bathroom_string):\n",
    "        return 0\n",
    "    bathroom_string = str(bathroom_string)\n",
    "    numbers = re.findall(r'\\((\\d+)\\)', bathroom_string)\n",
    "    return sum(map(int, numbers)) if numbers else 0\n",
    "\n",
    "sanuzels = df['Санузел']\n",
    "df['Общее количество санузлов'] = sanuzels.apply(count_bathrooms)\n",
    "\n",
    "# находим моду для количества санузлов\n",
    "mode_bathrooms = df['Общее количество санузлов'].mode().iloc[0]\n",
    "\n",
    "# заменяем нулевые значения (которые были NaN) на моду\n",
    "df['Общее количество санузлов'] = df['Общее количество санузлов'].replace(0, mode_bathrooms)"
   ]
  },
  {
   "cell_type": "code",
   "execution_count": 28,
   "id": "5576e682-13e2-46d5-aed6-e22b6ed874a5",
   "metadata": {},
   "outputs": [],
   "source": [
    "# Бинарный признак: центр или нет\n",
    "df['is_center'] = df['Адрес'].apply(lambda x: 1 if 'центр' in x.lower() else 0)"
   ]
  },
  {
   "cell_type": "code",
   "execution_count": 29,
   "id": "74a79d0e-e282-4483-af36-eb4381eff227",
   "metadata": {},
   "outputs": [],
   "source": [
    "# удаляем: Unnamed: 0 - дублирует индексы, Тип - у всех одинаковый, Санузел и Адрес - взяли что нужно, Телефоны и Ссылка на объявление - не влияют на цену, \n",
    "# удаляем: Дом, Площадь комнат, м2 - смотрим только на общую площадь, Название ЖК и Серия дома - много NaN\n",
    "df = df.drop(columns=['Unnamed: 0', 'Тип', 'Санузел', 'Адрес', 'Телефоны', 'Дом', 'Площадь комнат, м2', 'Название ЖК', 'Серия дома', 'Ссылка на объявление'])"
   ]
  },
  {
   "cell_type": "code",
   "execution_count": 30,
   "id": "f62c0cf6-311c-44da-951b-a930821a277c",
   "metadata": {},
   "outputs": [],
   "source": [
    "# извлекаем только кол-во комнат, а NaN заменяем на 0\n",
    "df['Количество комнат'] = df['Количество комнат'].str.extract(r'(\\d+)').fillna(0).astype(int)"
   ]
  },
  {
   "cell_type": "code",
   "execution_count": 31,
   "id": "fced6102-29f3-461d-9936-6e19ac80e323",
   "metadata": {},
   "outputs": [],
   "source": [
    "# извлекаем только расстояние до метро, а NaN заменяем на 60, т.к. где не указано - скорее всего далеко\n",
    "df['Метро'] = df['Метро'].str.extract(r'(\\d+)')[0].fillna(60).astype(int)"
   ]
  },
  {
   "cell_type": "code",
   "execution_count": 32,
   "id": "ea08cfab-c0d6-4848-91c8-b26e7a7ba222",
   "metadata": {},
   "outputs": [],
   "source": [
    "# преобразовать в бинарный признак (1 — есть парковка, 0 — нет). NaN заменить на 0.\n",
    "df['Парковка'] = df['Парковка'].notna().astype(int)"
   ]
  },
  {
   "cell_type": "code",
   "execution_count": 33,
   "id": "f21c855f-3fce-4f5d-abdd-34e5adef0919",
   "metadata": {},
   "outputs": [],
   "source": [
    "# Извлечение признаков из описания, которые могут влиять на стоимость аренды\n",
    "df['has_furniture'] = df['Описание'].apply(lambda x: 1 if 'мебель' in str(x).lower() else 0)\n",
    "df['has_washer'] = df['Описание'].apply(lambda x: 1 if 'стиральная машина' in str(x).lower() else 0)"
   ]
  },
  {
   "cell_type": "code",
   "execution_count": 34,
   "id": "8291a7b5-761c-485e-bb77-08ff8a1686f4",
   "metadata": {},
   "outputs": [],
   "source": [
    "# просто длина описания, чем больше содежание, тем выше цена\n",
    "df['Описание'] = df['Описание'].str.len().fillna(0)"
   ]
  },
  {
   "cell_type": "code",
   "execution_count": 35,
   "id": "d003db67-4b37-4b1c-a3c3-2af8eb106205",
   "metadata": {},
   "outputs": [],
   "source": [
    "# кодиовка ремонта, а где нет - 0\n",
    "repair_mapping = {\n",
    "    'Косметический': 1,\n",
    "    'Евроремонт': 2,\n",
    "    'Дизайнерский': 3\n",
    "}\n",
    "df['Ремонт'] = df['Ремонт'].map(repair_mapping).fillna(0)"
   ]
  },
  {
   "cell_type": "code",
   "execution_count": 36,
   "id": "f6f47a1d-3316-415e-87c1-2d36ac4fdd4c",
   "metadata": {},
   "outputs": [],
   "source": [
    "# извлечь количество балконов, NaN заменить на 0.\n",
    "df['Балкон'] = df['Балкон'].str.extract(r'(\\d+)').fillna(0).astype(int)"
   ]
  },
  {
   "cell_type": "code",
   "execution_count": 37,
   "id": "ad6f409d-5bf3-45a9-b3f2-8f0e3a875edc",
   "metadata": {},
   "outputs": [],
   "source": [
    "# кодировка по окнам\n",
    "windows_mapping = {\n",
    "    'Во двор': 1,\n",
    "    'На улицу': 2,\n",
    "    'На улицу и двор': 3\n",
    "}\n",
    "df['Окна'] = df['Окна'].map(windows_mapping)\n",
    "# определение моды среди непустых значений\n",
    "mode_windows = df['Окна'].mode().iloc[0]\n",
    "# замена пустых значений на моду\n",
    "df['Окна'] = df['Окна'].fillna(mode_windows)"
   ]
  },
  {
   "cell_type": "code",
   "execution_count": 38,
   "id": "8c26d5bc-dc2a-468b-9c9e-3349bdafa34e",
   "metadata": {},
   "outputs": [],
   "source": [
    "# разделение колонки на две с последующим удалением\n",
    "df['Можно с детьми'] = df['Можно с детьми/животными'].str.contains('Можно с детьми').fillna(0).astype(int)\n",
    "df['Можно с животными'] = df['Можно с детьми/животными'].str.contains('Можно с животными').fillna(0).astype(int)\n",
    "df = df.drop(columns=['Можно с детьми/животными'])"
   ]
  },
  {
   "cell_type": "code",
   "execution_count": 39,
   "id": "c7eedb6a-c047-4f89-b384-1e2b2d53ad3c",
   "metadata": {},
   "outputs": [],
   "source": [
    "# замена на длину содержания\n",
    "df['Дополнительно'] = df['Дополнительно'].str.split(',').str.len().fillna(0)"
   ]
  },
  {
   "cell_type": "code",
   "execution_count": 40,
   "id": "ab65031a-f07d-42c0-bdb7-a31d26a186f5",
   "metadata": {},
   "outputs": [],
   "source": [
    "# Функция для перевода высоты из см в м\n",
    "def convert_to_meters(value):\n",
    "    if value > 10:\n",
    "        return value / 100\n",
    "    return value"
   ]
  },
  {
   "cell_type": "code",
   "execution_count": 41,
   "id": "79fe4bb3-241d-4584-ae6a-59523ce144e0",
   "metadata": {},
   "outputs": [],
   "source": [
    "# Высота потолков: исправление аномалий\n",
    "df['Высота потолков, м'] = df['Высота потолков, м'].apply(convert_to_meters)\n",
    "# Замена NaN на среднее значение\n",
    "df['Высота потолков, м'] = df['Высота потолков, м'].fillna(df['Высота потолков, м'].mean())"
   ]
  },
  {
   "cell_type": "code",
   "execution_count": 42,
   "id": "11c163c3-6acd-442f-9a36-cf757c881c55",
   "metadata": {},
   "outputs": [],
   "source": [
    "# закодировать наличие лифта (1 — есть, 0 — нет). NaN заменить на 0.\n",
    "df['Лифт'] = df['Лифт'].notna().astype(int)"
   ]
  },
  {
   "cell_type": "code",
   "execution_count": 43,
   "id": "b7d2000e-6494-49ee-8ab4-8146544980d5",
   "metadata": {},
   "outputs": [],
   "source": [
    "# закодировать наличие мусоропровода (1 — есть, 0 — нет). NaN заменить на 0.\n",
    "df['Мусоропровод'] = df['Мусоропровод'].eq('Да').astype(int)"
   ]
  },
  {
   "cell_type": "code",
   "execution_count": 44,
   "id": "4a03dd3b-830d-4bf1-b401-e3120993cfad",
   "metadata": {},
   "outputs": [
    {
     "data": {
      "text/plain": [
       "ID  объявления               True\n",
       "Количество комнат            True\n",
       "Метро                        True\n",
       "Площадь, м2                  True\n",
       "Парковка                     True\n",
       "Цена                         True\n",
       "Описание                     True\n",
       "Ремонт                       True\n",
       "Балкон                       True\n",
       "Окна                         True\n",
       "Дополнительно                True\n",
       "Высота потолков, м           True\n",
       "Лифт                         True\n",
       "Мусоропровод                 True\n",
       "Общее количество санузлов    True\n",
       "is_center                    True\n",
       "has_furniture                True\n",
       "has_washer                   True\n",
       "Можно с детьми               True\n",
       "Можно с животными            True\n",
       "dtype: bool"
      ]
     },
     "execution_count": 44,
     "metadata": {},
     "output_type": "execute_result"
    }
   ],
   "source": [
    "# проверка на отсутсвие NaN\n",
    "df.isnull().sum() == 0"
   ]
  },
  {
   "cell_type": "code",
   "execution_count": 45,
   "id": "23227b3a-ab68-4c6f-bcad-7c75d368f9c6",
   "metadata": {},
   "outputs": [],
   "source": [
    "# словарь для переименования колонок\n",
    "rename_dict = {\n",
    "    'ID  объявления': 'ad_id',\n",
    "    'Количество комнат': 'rooms',\n",
    "    'Метро': 'metro',\n",
    "    'Площадь, м2': 'area_sqm',\n",
    "    'Парковка': 'parking',\n",
    "    'Цена': 'target',\n",
    "    'Описание': 'description',\n",
    "    'Ремонт': 'renovation',\n",
    "    'Балкон': 'balcony',\n",
    "    'Окна': 'windows',\n",
    "    'Дополнительно': 'additional',\n",
    "    'Высота потолков, м': 'ceiling_height_m',\n",
    "    'Лифт': 'elevator',\n",
    "    'Мусоропровод': 'garbage_chute',\n",
    "    'Общее количество санузлов': 'total_bathrooms',\n",
    "    'is_center': 'is_center',\n",
    "    'has_furniture': 'has_furniture',\n",
    "    'has_washer': 'has_washer',\n",
    "    'Можно с детьми': 'children_allowed',\n",
    "    'Можно с животными': 'pets_allowed'\n",
    "}\n",
    "\n",
    "# переименование колонок\n",
    "df = df.rename(columns=rename_dict)"
   ]
  },
  {
   "cell_type": "code",
   "execution_count": 51,
   "id": "16d98fac-6540-4d34-8ef4-bc7c6a14b813",
   "metadata": {},
   "outputs": [],
   "source": [
    "# перемещение 'target' в конец\n",
    "target_col = df.pop('target')\n",
    "df['target'] = target_col "
   ]
  },
  {
   "cell_type": "code",
   "execution_count": 52,
   "id": "6179edeb-b944-4dba-9a14-60d7ca77d51f",
   "metadata": {},
   "outputs": [],
   "source": [
    "df.to_csv('data.csv', index=False)"
   ]
  }
 ],
 "metadata": {
  "kernelspec": {
   "display_name": "Python 3 (ipykernel)",
   "language": "python",
   "name": "python3"
  },
  "language_info": {
   "codemirror_mode": {
    "name": "ipython",
    "version": 3
   },
   "file_extension": ".py",
   "mimetype": "text/x-python",
   "name": "python",
   "nbconvert_exporter": "python",
   "pygments_lexer": "ipython3",
   "version": "3.12.8"
  }
 },
 "nbformat": 4,
 "nbformat_minor": 5
}
